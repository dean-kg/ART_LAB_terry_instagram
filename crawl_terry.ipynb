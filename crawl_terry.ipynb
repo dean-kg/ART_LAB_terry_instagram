{
 "cells": [
  {
   "cell_type": "code",
   "execution_count": null,
   "metadata": {},
   "outputs": [],
   "source": [
    "from time import sleep\n",
    "from selenium import webdriver\n",
    "import datetime\n",
    "path=\"chromedriver.exe\"\n",
    "import requests\n",
    "import bs4\n",
    "from bs4 import BeautifulSoup as bs\n",
    "import pandas as pd\n",
    "pd.set_option('display.max_rows',1000)\n",
    "import numpy as np\n",
    "import datetime\n",
    "from IPython.core.display import display, HTML\n",
    "display(HTML(\"<style>.container { width:90% !important; }</style>\"))"
   ]
  },
  {
   "cell_type": "markdown",
   "metadata": {},
   "source": [
    "# 인스타 창 띄우기"
   ]
  },
  {
   "cell_type": "markdown",
   "metadata": {},
   "source": [
    "### 로그인까지만 수동"
   ]
  },
  {
   "cell_type": "code",
   "execution_count": null,
   "metadata": {},
   "outputs": [],
   "source": [
    "url=\"https://www.instagram.com/?hl=ko\"\n",
    "\n",
    "home=webdriver.Chrome(path)\n",
    "home.get(url)\n",
    "sleep(5)"
   ]
  },
  {
   "cell_type": "markdown",
   "metadata": {},
   "source": [
    "### 해당 게시글 이동 및 게시날짜 , 메인글, 좋아요수 수집"
   ]
  },
  {
   "cell_type": "code",
   "execution_count": null,
   "metadata": {},
   "outputs": [],
   "source": [
    "total=[]\n",
    "n=0\n",
    "while True:\n",
    "    upload_time=home.find_element_by_xpath('/html/body/div[4]/div[2]/div/article/div[3]/div[2]/a/time').get_attribute(\"datetime\")\n",
    "    upload_time=home.find_element_by_xpath('/html/body/div[4]/div[2]/div/article/div[3]/div[2]/a/time').get_attribute(\"datetime\")\n",
    "\n",
    "    main_text=home.find_element_by_xpath('/html/body/div[4]/div[2]/div/article/div[3]/div[1]/ul/div/li/div/div/div[2]/span').text\n",
    "    try:\n",
    "        likes=home.find_element_by_xpath('/html/body/div[4]/div[2]/div/article/div[3]/section[2]/div/div/button').text\n",
    "    except:\n",
    "        likes=home.find_element_by_xpath('/html/body/div[4]/div[2]/div/article/div[3]/section[2]/div/span').text\n",
    "\n",
    "    try:\n",
    "        url =home.find_element_by_xpath('/html/body/div[4]/div[2]/div/article/div[2]/div/div/div[1]/img').get_attribute(\"src\")\n",
    "        response = requests.get(url)\n",
    "        #이미지저장\n",
    "        if response.status_code == 200:\n",
    "            with open(\"./img_data/\"+upload_time[:19].replace(\":\",\"_\")+\".jpg\", 'wb') as f:\n",
    "                f.write(response.content)\n",
    "    except:\n",
    "        print('img error')\n",
    "\n",
    "\n",
    "    #next page\n",
    "    try:\n",
    "        home.find_element_by_xpath(\"/html/body/div[4]/div[1]/div/div/a[2]\").click()\n",
    "    except:\n",
    "        home.find_element_by_xpath(\"/html/body/div[4]/div[1]/div/div/a\").click()\n",
    "    \n",
    "    total+=[[upload_time,main_text,likes]]\n",
    "    sleep(1.5)\n",
    "    n+=1\n",
    "    if n%20==0:\n",
    "        print(n)"
   ]
  },
  {
   "cell_type": "markdown",
   "metadata": {},
   "source": [
    "#### 데이터프레임 후 저장"
   ]
  },
  {
   "cell_type": "code",
   "execution_count": null,
   "metadata": {},
   "outputs": [],
   "source": [
    "df=pd.DataFrame(total)"
   ]
  },
  {
   "cell_type": "code",
   "execution_count": null,
   "metadata": {},
   "outputs": [],
   "source": [
    "df.to_csv(\"test.csv\")"
   ]
  }
 ],
 "metadata": {
  "kernelspec": {
   "display_name": "Python 3",
   "language": "python",
   "name": "python3"
  },
  "language_info": {
   "codemirror_mode": {
    "name": "ipython",
    "version": 3
   },
   "file_extension": ".py",
   "mimetype": "text/x-python",
   "name": "python",
   "nbconvert_exporter": "python",
   "pygments_lexer": "ipython3",
   "version": "3.6.10"
  }
 },
 "nbformat": 4,
 "nbformat_minor": 4
}
